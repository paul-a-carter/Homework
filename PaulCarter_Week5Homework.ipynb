{
 "cells": [
  {
   "cell_type": "markdown",
   "metadata": {},
   "source": [
    "## Homework 5"
   ]
  },
  {
   "cell_type": "markdown",
   "metadata": {},
   "source": [
    "#### Markdown Questions\n",
    "\n",
    "- **Pandas** references both “Panel Data” and “Python Data Analysis”.\n",
    "- The 2 collections in Pandas are *series* and *data frames*.\n",
    "- Pandas can do *data cleansing*, *data normalization*, *merges and joins*, and *statistical analysis*.\n",
    "- To permanently sort a DataFrame, the keyword *inplace* (set equal to *True*) should be used.\n",
    "- A **CSV** (Comma Separated Values) file is a plain text file that stores data by delimiting data entries with commas.\n",
    "- When cleaning data, we do not like *null* values."
   ]
  },
  {
   "cell_type": "markdown",
   "metadata": {},
   "source": [
    "#### Coding Exercise"
   ]
  },
  {
   "cell_type": "code",
   "execution_count": 26,
   "metadata": {},
   "outputs": [
    {
     "name": "stdout",
     "output_type": "stream",
     "text": [
      "[[ 1  2  3]\n",
      " [ 4  5  6]\n",
      " [ 7  8  9]\n",
      " [10 11 12]]\n",
      "[[[ 1  2]\n",
      "  [ 3  4]\n",
      "  [ 5  6]]\n",
      "\n",
      " [[ 7  8]\n",
      "  [ 9 10]\n",
      "  [11 12]]]\n"
     ]
    }
   ],
   "source": [
    "# Import NumPy, use one of the NumPy methods and create an array with a shape of (2, 3, 2). You can use the reshape method -- .reshape()\n",
    "\n",
    "import numpy as np\n",
    "\n",
    "array = np.array([(1,2,3),(4,5,6),(7,8,9),(10,11,12)])\n",
    "reshapedArray = array.reshape(2,3,2)\n",
    "print(array)\n",
    "print(reshapedArray)"
   ]
  },
  {
   "cell_type": "code",
   "execution_count": 24,
   "metadata": {},
   "outputs": [
    {
     "name": "stdout",
     "output_type": "stream",
     "text": [
      "[ 0.  4.  8. 12. 16. 20.]\n"
     ]
    }
   ],
   "source": [
    "# Use NumPy .linspace() to create an array with 6 linearly spaced values between 0 and 20\n",
    "\n",
    "sun = np.linspace(0,20,6)\n",
    "print(sun)"
   ]
  },
  {
   "cell_type": "code",
   "execution_count": 25,
   "metadata": {},
   "outputs": [
    {
     "name": "stdout",
     "output_type": "stream",
     "text": [
      "[ 0.  4.  8. 12. 16. 20.]\n"
     ]
    }
   ],
   "source": [
    "# Make a Deep Copy of the above array\n",
    "\n",
    "import copy\n",
    "\n",
    "moon = copy.deepcopy(sun)\n",
    "print(moon)"
   ]
  },
  {
   "cell_type": "code",
   "execution_count": 23,
   "metadata": {},
   "outputs": [
    {
     "name": "stdout",
     "output_type": "stream",
     "text": [
      "[[25 16]\n",
      " [11  2]\n",
      " [13  4]\n",
      " [ 7 81]\n",
      " [ 5  6]\n",
      " [11 12]]\n"
     ]
    }
   ],
   "source": [
    "# Concatenate these 3 arrays into a new array named 'newArray'...\n",
    "\n",
    "arrayA = ([[25, 16]])\n",
    "arrayB = ([[11, 2], [13, 4]])\n",
    "arrayC = ([[7, 81], [5, 6], [11, 12]])\n",
    "\n",
    "newArray = np.concatenate((arrayA,arrayB,arrayC))\n",
    "print(newArray)"
   ]
  },
  {
   "cell_type": "code",
   "execution_count": 22,
   "metadata": {},
   "outputs": [
    {
     "name": "stdout",
     "output_type": "stream",
     "text": [
      "[[16 25]\n",
      " [ 2 11]\n",
      " [ 4 13]\n",
      " [ 7 81]\n",
      " [ 5  6]\n",
      " [11 12]]\n"
     ]
    }
   ],
   "source": [
    "# Sort 'newArray' in order into 'sortedArray'\n",
    "\n",
    "sortedArray = np.sort(newArray)\n",
    "print(sortedArray)"
   ]
  },
  {
   "cell_type": "code",
   "execution_count": 6,
   "metadata": {},
   "outputs": [
    {
     "name": "stdout",
     "output_type": "stream",
     "text": [
      "[1 2 3]\n",
      "[4 5 6]\n",
      "[7 8 9]\n",
      "[10 11 12]\n"
     ]
    }
   ],
   "source": [
    "# Unpack the array tuples from the above 'reshapedArray' into 4 well named variables. Print the 4 variables.\n",
    "\n",
    "var1,var2,var3,var4 = array\n",
    "\n",
    "print(var1)\n",
    "print(var2)\n",
    "print(var3)\n",
    "print(var4)"
   ]
  },
  {
   "cell_type": "code",
   "execution_count": 7,
   "metadata": {},
   "outputs": [
    {
     "name": "stdout",
     "output_type": "stream",
     "text": [
      "[ 0  1  2  3  4  5  6  7 10 11 12 13 14 15 16 17 20 21 22 23 24 25 26 27]\n"
     ]
    }
   ],
   "source": [
    "# Combined and sort the following arrays into one called 'comboArray' ...\n",
    "\n",
    "one = ([10, 11, 12, 13, 14, 15, 16, 17])\n",
    "two = ([20, 21, 22, 23, 24, 25, 26, 27])\n",
    "three = ([ 0, 1, 2, 3, 4, 5, 6, 7])\n",
    "\n",
    "comboArray = np.concatenate((one,two,three))\n",
    "comboArray = np.sort(comboArray)\n",
    "print(comboArray)"
   ]
  },
  {
   "cell_type": "code",
   "execution_count": 8,
   "metadata": {},
   "outputs": [
    {
     "name": "stdout",
     "output_type": "stream",
     "text": [
      "1\n",
      "[ 2  3  4  5  6  7 10 11 12 13 14 15 16 17 20 21 22 23 24 25 26 27]\n",
      "[ 3  4  5  6  7 10 11 12 13 14 15]\n",
      "[22 23 24 25 26 27]\n",
      "[ 0  1  2  3  4  5  6  7 10 11 12 13 14 15]\n",
      "[20 22 24 26]\n",
      "[27 22 15 10  3]\n"
     ]
    }
   ],
   "source": [
    "# Take 'comboArray' and perform the following slicing activities:\n",
    "# print sec1 - the 2nd element\n",
    "# print sec2 - all elements from the 3rd element to the last\n",
    "# print sec3 - all elements from the 4th to the 14th elements\n",
    "# print sec4 - the last 6 elements\n",
    "# print sec5 - all element from #0 up to and including #15, using the negative number method, i.e. taking a section from the end.\n",
    "# print sec6 - from #20 every even element to the end\n",
    "# print sec7 - from the last element moving forward, every 5th element.\n",
    "\n",
    "print(comboArray[1])\n",
    "print(comboArray[2:])\n",
    "print(comboArray[3:14])\n",
    "print(comboArray[-6:])\n",
    "print(comboArray[-24:-10])\n",
    "print(comboArray[-8::2])\n",
    "print(comboArray[::-5])"
   ]
  },
  {
   "cell_type": "code",
   "execution_count": 18,
   "metadata": {},
   "outputs": [
    {
     "name": "stdout",
     "output_type": "stream",
     "text": [
      " Ingredients  Quantity   Unit\n",
      "       Flour         4   cups\n",
      "        Milk         1    cup\n",
      "        Eggs         2  large\n",
      "        Spam         1    can\n"
     ]
    }
   ],
   "source": [
    "# Using Series, create a DataFrame that looks like this:\n",
    "\n",
    "import pandas as pd\n",
    "\n",
    "ingredients = pd.Series([\"Flour\",\"Milk\",\"Eggs\",\"Spam\"],name=\"Ingredients\")\n",
    "quantity = pd.Series([4,1,2,1],name=\"Quantity\")\n",
    "unit  = pd.Series([\"cups\",\"cup\",\"large\",\"can\"],name=\"Unit\")\n",
    "\n",
    "index_labels = [\"\",\"\",\"\",\"\"]\n",
    "ingredients.index = index_labels\n",
    "quantity.index = index_labels\n",
    "unit.index = index_labels\n",
    "\n",
    "df = pd.concat([ingredients,quantity,unit],axis=1)\n",
    "print(df)"
   ]
  },
  {
   "cell_type": "code",
   "execution_count": 15,
   "metadata": {},
   "outputs": [
    {
     "name": "stdout",
     "output_type": "stream",
     "text": [
      "      Name  Height Qualification  address  Age        Pets           sport\n",
      "0      Jai     5.1           Msc    Delhi   21         Dog           Darts\n",
      "1  janusha     6.2            MA     Doha   23       Bunny      Basketball\n",
      "2   Gaurav     5.1           Msc  Chennai   24  Chinchilla  PaddleBoarding\n",
      "3     Anuj     5.2           Msc   Dakhar   21      Parrot         Cricket\n"
     ]
    }
   ],
   "source": [
    "# Take this data and create a DataFrame named studentData\n",
    "\n",
    "dict = {'Name': ['Jai', 'janusha', 'Gaurav', 'Anuj'],\n",
    "        'Height': [5.1, 6.2, 5.1, 5.2],\n",
    "        'Qualification': ['Msc', 'MA', 'Msc', 'Msc'],\n",
    "        'address': ['Delhi', 'Doha', 'Chennai', 'Dakhar'],\n",
    "        'Age': [21, 23, 24, 21],\n",
    "        'Pets': ['Dog', 'Bunny', 'Chinchilla', 'Parrot'],\n",
    "        'sport': ['Darts', 'Basketball', 'PaddleBoarding', 'Cricket']\n",
    "    }\n",
    "\n",
    "studentData = pd.DataFrame(dict)\n",
    "print(studentData)"
   ]
  },
  {
   "cell_type": "code",
   "execution_count": 17,
   "metadata": {},
   "outputs": [
    {
     "name": "stdout",
     "output_type": "stream",
     "text": [
      "      Name  Height Qualification  address  Age        Pets           sport  \\\n",
      "0      Jai     5.1           Msc    Delhi   21         Dog           Darts   \n",
      "1  janusha     6.2            MA     Doha   23       Bunny      Basketball   \n",
      "2   Gaurav     5.1           Msc  Chennai   24  Chinchilla  PaddleBoarding   \n",
      "3     Anuj     5.2           Msc   Dakhar   21      Parrot         Cricket   \n",
      "\n",
      "       Desserts  \n",
      "0     ice cream  \n",
      "1  Cashew Fudge  \n",
      "2       waffels  \n",
      "3  Carrot Halwa  \n"
     ]
    }
   ],
   "source": [
    "# Add a new column to the DataFrame with the following deserts: [\"ice cream\", \"Cashew Fudge\", \"waffels\", \"Carrot Halwa\"]\n",
    "\n",
    "Desserts = [\"ice cream\", \"Cashew Fudge\", \"waffels\", \"Carrot Halwa\"]\n",
    "studentData[\"Desserts\"] = Desserts\n",
    "print(studentData)"
   ]
  },
  {
   "cell_type": "code",
   "execution_count": 21,
   "metadata": {},
   "outputs": [
    {
     "name": "stdout",
     "output_type": "stream",
     "text": [
      "      Name  Height Qualification  address  Age        Pets           sport  \\\n",
      "3     Anuj     5.2           Msc   Dakhar   21      Parrot         Cricket   \n",
      "2   Gaurav     5.1           Msc  Chennai   24  Chinchilla  PaddleBoarding   \n",
      "0      Jai     5.1           Msc    Delhi   21         Dog           Darts   \n",
      "1  janusha     6.2            MA     Doha   23       Bunny      Basketball   \n",
      "\n",
      "       Desserts  \n",
      "3  Carrot Halwa  \n",
      "2       waffels  \n",
      "0     ice cream  \n",
      "1  Cashew Fudge  \n"
     ]
    }
   ],
   "source": [
    "# Sort the 'studentData' DataFrame in Ascending order -- Sorting by column 'Name' and then \"address\"\n",
    "\n",
    "studentData.sort_values(by=[\"Name\",\"address\"],inplace=True)\n",
    "print(studentData)"
   ]
  },
  {
   "cell_type": "code",
   "execution_count": 37,
   "metadata": {},
   "outputs": [
    {
     "name": "stdout",
     "output_type": "stream",
     "text": [
      "  Unnamed: 0  Cows  Goats\n",
      "0     Year 1    12     22\n",
      "1     Year 2    20     19\n"
     ]
    }
   ],
   "source": [
    "# Save this DataFrame here below to disc as a .CSV file with the name cows_and_goats.csv:\n",
    "\n",
    "df = pd.DataFrame({'Cows': [12, 20], 'Goats': [22, 19]}, index=['Year 1', 'Year 2'])\n",
    "\n",
    "df.to_csv(\"cows_and_goats.csv\")\n",
    "CaG = pd.read_csv(\"cows_and_goats.csv\")\n",
    "print(CaG)"
   ]
  },
  {
   "cell_type": "code",
   "execution_count": 36,
   "metadata": {},
   "outputs": [
    {
     "name": "stdout",
     "output_type": "stream",
     "text": [
      "  Vegetable               Type\n",
      "0   Lettuce        Leafy green\n",
      "1    Potato               Root\n",
      "2     Onion             Allium\n",
      "3   Cabbage        Cruciferous\n",
      "4   Pumpkin             Marrow\n",
      "5    Celery  Edible plant stem\n",
      "\n",
      "\n",
      "  Vegetable               Type\n",
      "0     Onion             Allium\n",
      "1   Cabbage        Cruciferous\n",
      "2    Celery  Edible plant stem\n",
      "3   Lettuce        Leafy green\n",
      "4   Pumpkin             Marrow\n",
      "5    Potato               Root\n"
     ]
    }
   ],
   "source": [
    "# (A) Using Pandas, make your own .CSV file with data on vegetables and save it.\n",
    "# (B) Using Pandas, make a change to your CSV file, and save a copy with a different name.\n",
    "\n",
    "vegetables = pd.DataFrame([[\"Lettuce\",\"Leafy green\"],[\"Potato\",\"Root\"],[\"Onion\",\"Allium\"],[\"Cabbage\",\"Cruciferous\"],[\"Pumpkin\",\"Marrow\"],[\"Celery\",\"Edible plant stem\"]],\n",
    "                          columns=[\"Vegetable\",\"Type\"])\n",
    "\n",
    "vegetables.to_csv(\"vegetables.csv\",index=False)\n",
    "df = pd.read_csv(\"vegetables.csv\")\n",
    "print(df)\n",
    "\n",
    "print(\"\\n\")\n",
    "\n",
    "df.sort_values(by=\"Type\",inplace=True)\n",
    "df.to_csv(\"sortedVegetables.csv\",index=False)\n",
    "dfS = pd.read_csv(\"sortedVegetables.csv\")\n",
    "print(dfS)"
   ]
  }
 ],
 "metadata": {
  "kernelspec": {
   "display_name": "Python 3",
   "language": "python",
   "name": "python3"
  },
  "language_info": {
   "codemirror_mode": {
    "name": "ipython",
    "version": 3
   },
   "file_extension": ".py",
   "mimetype": "text/x-python",
   "name": "python",
   "nbconvert_exporter": "python",
   "pygments_lexer": "ipython3",
   "version": "3.11.4"
  },
  "orig_nbformat": 4
 },
 "nbformat": 4,
 "nbformat_minor": 2
}
