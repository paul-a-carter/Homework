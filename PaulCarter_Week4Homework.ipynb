{
 "cells": [
  {
   "cell_type": "markdown",
   "metadata": {},
   "source": [
    "## Homework Questions\n",
    "\n",
    "- To use a **module**, one needs to import the module into their program (using the *import* command).\n",
    "- One module we talked about was the Math module. An example of some code to use this module would be:\n",
    "    - import math\n",
    "    - print(math.ceil(20.5))\n",
    "- A benefit of **exception handling** is that you can continue executing code past errors rather than the program crashing at an error.\n",
    "- The 4 components of exception handling are *try*, *except*, *else*, and *finally*.\n",
    "- NumPy arrays are like *lists*.\n",
    "- One of the main benefits of using NumPy arrays is that they *occupy less memory*.\n",
    "- One of the main requirements about the 'dytpe' of NumPy arrays is that they *specify the data type to which the array should be converted*.\n",
    "- 2 of the uses of NumPy are to *add powerful data structures to Python that guarantee efficient calculations with arrays and matrices* and that it *contains a multidimensional array and matrix data structure (in the form of rows and columns)*.\n",
    "- One of the other libraries we'll use wth NumPy is *Pandas*.\n",
    "- The **shape** of NumPy arrays are tuples of non-negative integers that specify the dimensions, lengths and sizes of each array (3,2,4).\n",
    "- A **tensor** is an array with 3+ dimensions.\n",
    "- It's better to use NumPy for Data Analysis rather than a Python List because *NumPy arrays are faster*.\n",
    "- In an **empty** array, it will fill in values based on memory."
   ]
  },
  {
   "cell_type": "markdown",
   "metadata": {},
   "source": [
    "## Flow Control Methods"
   ]
  },
  {
   "cell_type": "code",
   "execution_count": 8,
   "metadata": {},
   "outputs": [
    {
     "name": "stdout",
     "output_type": "stream",
     "text": [
      "Renting a car is very expensive\n"
     ]
    }
   ],
   "source": [
    "# Create an if statement: if 'age' is greater than or equal to 25, print \"Renting a car is more affordable\", however if 'age' is less than 25, print \n",
    "# \"Renting a car is very expensive.\"\n",
    "\n",
    "age = int(input(\"What is your age? \"))\n",
    "\n",
    "if age >= 25:\n",
    "    print(\"Renting a car is more affordable\")\n",
    "else:\n",
    "    print(\"Renting a car is very expensive\")"
   ]
  },
  {
   "cell_type": "code",
   "execution_count": 13,
   "metadata": {},
   "outputs": [
    {
     "name": "stdout",
     "output_type": "stream",
     "text": [
      "You cannot legally rent a car\n"
     ]
    }
   ],
   "source": [
    "# Create and chain an if-else statement: if 'age' is greater than or equal to 25, print \"Renting a car is more affordable.\" If 'age' is less than 25 \n",
    "# but greater than or equal to 18, print \"Renting a car is very expensive.\" Finally, if age is less than 18, print \"You cannot legally rent a car.\"\n",
    "\n",
    "age = int(input(\"What is your age? \"))\n",
    "\n",
    "if age >= 25:\n",
    "    print(\"Renting a car is more affordable\")\n",
    "elif age >= 18:\n",
    "    print(\"Renting a car is very expensive\")\n",
    "else:\n",
    "    print(\"You cannot legally rent a car\")"
   ]
  },
  {
   "cell_type": "code",
   "execution_count": 30,
   "metadata": {},
   "outputs": [
    {
     "name": "stdout",
     "output_type": "stream",
     "text": [
      "e u i o o u o e e a o \n",
      "43\n"
     ]
    }
   ],
   "source": [
    "# Loop over the following string to (1) count all the characters in the string and (2) print out all the vowels -- \"The quick brown fox jumps \n",
    "# over the lazy dog\"\n",
    "\n",
    "count = 0\n",
    "\n",
    "for char in \"The quick brown fox jumps over the lazy dog\":\n",
    "    count += 1\n",
    "    if char in \"AEIOUaeiou\":\n",
    "        print(char, end=\" \")\n",
    "\n",
    "print()\n",
    "print(count)"
   ]
  },
  {
   "cell_type": "code",
   "execution_count": 26,
   "metadata": {},
   "outputs": [
    {
     "name": "stdout",
     "output_type": "stream",
     "text": [
      "cerise trousers\n",
      "cerise blouse\n",
      "cerise bandana\n",
      "cerise cumber band\n",
      "cerise blazer\n",
      "cerise vest\n",
      "cerise french beret\n",
      "cerise scarf\n",
      "cerise stole\n",
      "fuchsia trousers\n",
      "fuchsia blouse\n",
      "fuchsia bandana\n",
      "fuchsia cumber band\n",
      "fuchsia blazer\n",
      "fuchsia vest\n",
      "fuchsia french beret\n",
      "fuchsia scarf\n",
      "fuchsia stole\n",
      "maple trousers\n",
      "maple blouse\n",
      "maple bandana\n",
      "maple cumber band\n",
      "maple blazer\n",
      "maple vest\n",
      "maple french beret\n",
      "maple scarf\n",
      "maple stole\n",
      "burnt sienna trousers\n",
      "burnt sienna blouse\n",
      "burnt sienna bandana\n",
      "burnt sienna cumber band\n",
      "burnt sienna blazer\n",
      "burnt sienna vest\n",
      "burnt sienna french beret\n",
      "burnt sienna scarf\n",
      "burnt sienna stole\n",
      "auburn trousers\n",
      "auburn blouse\n",
      "auburn bandana\n",
      "auburn cumber band\n",
      "auburn blazer\n",
      "auburn vest\n",
      "auburn french beret\n",
      "auburn scarf\n",
      "auburn stole\n",
      "gunmetal blue trousers\n",
      "gunmetal blue blouse\n",
      "gunmetal blue bandana\n",
      "gunmetal blue cumber band\n",
      "gunmetal blue blazer\n",
      "gunmetal blue vest\n",
      "gunmetal blue french beret\n",
      "gunmetal blue scarf\n",
      "gunmetal blue stole\n",
      "aqua trousers\n",
      "aqua blouse\n",
      "aqua bandana\n",
      "aqua cumber band\n",
      "aqua blazer\n",
      "aqua vest\n",
      "aqua french beret\n",
      "aqua scarf\n",
      "aqua stole\n",
      "Dark Sapphire trousers\n",
      "Dark Sapphire blouse\n",
      "Dark Sapphire bandana\n",
      "Dark Sapphire cumber band\n",
      "Dark Sapphire blazer\n",
      "Dark Sapphire vest\n",
      "Dark Sapphire french beret\n",
      "Dark Sapphire scarf\n",
      "Dark Sapphire stole\n"
     ]
    }
   ],
   "source": [
    "# Write a nested loop that prints out every piece of clothing from the couture list, in every fashionable color from the panettone set: \n",
    "# couture = [\"trousers\", \"blouse\", \"bandana\", \"cumber band\", \"blazer\", \"vest\", \"french beret\", \"scarf\", \"stole\"] and panettone = {\"cerise\", \n",
    "# \"fuchsia\", \"aqua\", \"maple\", \"auburn\", \"burnt sienna\", \"gunmetal blue\", \"Dark Sapphire\"}\n",
    "\n",
    "couture = [\"trousers\", \"blouse\", \"bandana\", \"cumber band\", \"blazer\", \"vest\", \"french beret\", \"scarf\", \"stole\"]\n",
    "panettone = {\"cerise\", \"fuchsia\", \"aqua\", \"maple\", \"auburn\", \"burnt sienna\", \"gunmetal blue\", \"Dark Sapphire\"}\n",
    "\n",
    "for x in panettone:\n",
    "    for y in couture:\n",
    "        print(x,y)"
   ]
  },
  {
   "cell_type": "code",
   "execution_count": 31,
   "metadata": {},
   "outputs": [
    {
     "name": "stdout",
     "output_type": "stream",
     "text": [
      "5050\n"
     ]
    }
   ],
   "source": [
    "# Use range as a loop to calculate the sum of all the numbers from 1 to 100\n",
    "\n",
    "sum = 0\n",
    "\n",
    "for x in range(1,101):\n",
    "    sum += x\n",
    "print(sum)"
   ]
  },
  {
   "cell_type": "code",
   "execution_count": 40,
   "metadata": {},
   "outputs": [
    {
     "name": "stdout",
     "output_type": "stream",
     "text": [
      "banana\n"
     ]
    }
   ],
   "source": [
    "# Print the second item in this fruits list. [\"apple\", \"banana\", \"cherry\"]\n",
    "\n",
    "fruitsList = [\"apple\", \"banana\", \"cherry\"]\n",
    "\n",
    "print(fruitsList[1])"
   ]
  },
  {
   "cell_type": "code",
   "execution_count": 39,
   "metadata": {},
   "outputs": [
    {
     "name": "stdout",
     "output_type": "stream",
     "text": [
      "['kiwi', 'banana', 'cherry']\n"
     ]
    }
   ],
   "source": [
    "# Change the value from \"apple\" to \"kiwi\", in the fruits list. [\"apple\", \"banana\", \"cherry\"]\n",
    "\n",
    "fruitsList = [\"apple\", \"banana\", \"cherry\"]\n",
    "\n",
    "fruitsList[0] = \"kiwi\"\n",
    "print(fruitsList)"
   ]
  },
  {
   "cell_type": "code",
   "execution_count": 41,
   "metadata": {},
   "outputs": [
    {
     "name": "stdout",
     "output_type": "stream",
     "text": [
      "['apple', 'banana', 'cherry', 'orange']\n"
     ]
    }
   ],
   "source": [
    "# Use the append method to add \"orange\" to the fruits list. [\"apple\", \"banana\", \"cherry\"]\n",
    "\n",
    "fruitsList = [\"apple\", \"banana\", \"cherry\"]\n",
    "\n",
    "fruitsList.append(\"orange\")\n",
    "print(fruitsList)"
   ]
  },
  {
   "cell_type": "code",
   "execution_count": 42,
   "metadata": {},
   "outputs": [
    {
     "name": "stdout",
     "output_type": "stream",
     "text": [
      "['apple', 'lemon', 'banana', 'cherry']\n"
     ]
    }
   ],
   "source": [
    "# Use the insert method to add \"lemon\" as the second item in the fruits list. [\"apple\", \"banana\", \"cherry\"]\n",
    "\n",
    "fruitsList = [\"apple\", \"banana\", \"cherry\"]\n",
    "\n",
    "fruitsList.insert(1,\"lemon\")\n",
    "print(fruitsList)"
   ]
  },
  {
   "cell_type": "code",
   "execution_count": 43,
   "metadata": {},
   "outputs": [
    {
     "name": "stdout",
     "output_type": "stream",
     "text": [
      "['apple', 'cherry']\n"
     ]
    }
   ],
   "source": [
    "# Use the remove method to remove \"banana\" from the fruits list. [\"apple\", \"banana\", \"cherry\"]\n",
    "\n",
    "fruitsList = [\"apple\", \"banana\", \"cherry\"]\n",
    "\n",
    "fruitsList.remove(\"banana\")\n",
    "print(fruitsList)"
   ]
  },
  {
   "cell_type": "code",
   "execution_count": 44,
   "metadata": {},
   "outputs": [
    {
     "name": "stdout",
     "output_type": "stream",
     "text": [
      "kiwi\n",
      "melon\n"
     ]
    }
   ],
   "source": [
    "# Use negative indexing to print the 3rd and 2nd to last items in the list. [\"apple\", \"banana\", \"cherry\", \"orange\", \"kiwi\", \"melon\", \"mango\"]\n",
    "\n",
    "fruitsList = [\"apple\", \"banana\", \"cherry\", \"orange\", \"kiwi\", \"melon\", \"mango\"]\n",
    "\n",
    "print(fruitsList[-3])\n",
    "print(fruitsList[-2])"
   ]
  },
  {
   "cell_type": "code",
   "execution_count": 45,
   "metadata": {},
   "outputs": [
    {
     "name": "stdout",
     "output_type": "stream",
     "text": [
      "['orange', 'kiwi', 'melon']\n"
     ]
    }
   ],
   "source": [
    "# Use a range of indexes to print the third, fourth, and fifth item in the list. [\"apple\", \"banana\", \"cherry\", \"orange\", \"kiwi\", \"melon\", \"mango\"]\n",
    "\n",
    "fruitsList = [\"apple\", \"banana\", \"cherry\", \"orange\", \"kiwi\", \"melon\", \"mango\"]\n",
    "\n",
    "print(fruitsList[3:6])"
   ]
  },
  {
   "cell_type": "code",
   "execution_count": 46,
   "metadata": {},
   "outputs": [
    {
     "name": "stdout",
     "output_type": "stream",
     "text": [
      "7\n"
     ]
    }
   ],
   "source": [
    "# Use the correct syntax to print the number of items in the list. [\"apple\", \"banana\", \"cherry\", \"orange\", \"kiwi\", \"melon\", \"mango\"]\n",
    "\n",
    "fruitsList = [\"apple\", \"banana\", \"cherry\", \"orange\", \"kiwi\", \"melon\", \"mango\"]\n",
    "\n",
    "print(len(fruitsList))"
   ]
  },
  {
   "cell_type": "code",
   "execution_count": 48,
   "metadata": {},
   "outputs": [
    {
     "name": "stdout",
     "output_type": "stream",
     "text": [
      "['orange', 'melon', 'mango', 'kiwi', 'cherry', 'banana', 'apple']\n"
     ]
    }
   ],
   "source": [
    "# Use the correct syntax to sort this list in reverse order [\"apple\", \"banana\", \"cherry\", \"orange\", \"kiwi\", \"melon\", \"mango\"]\n",
    "\n",
    "fruitsList = [\"apple\", \"banana\", \"cherry\", \"orange\", \"kiwi\", \"melon\", \"mango\"]\n",
    "\n",
    "fruitsList.sort(reverse=True)\n",
    "print(fruitsList)"
   ]
  },
  {
   "cell_type": "markdown",
   "metadata": {},
   "source": [
    "## Use a Python code file for this section"
   ]
  },
  {
   "cell_type": "code",
   "execution_count": 52,
   "metadata": {},
   "outputs": [
    {
     "name": "stdout",
     "output_type": "stream",
     "text": [
      "8\n"
     ]
    }
   ],
   "source": [
    "# Use the DateTime module to get Current Date and Time, and save it to a variable. Then extract just the Full month name form that variable.\n",
    "\n",
    "import datetime as dt\n",
    "\n",
    "time = dt.datetime.now()\n",
    "print(time.month)"
   ]
  },
  {
   "cell_type": "code",
   "execution_count": 61,
   "metadata": {},
   "outputs": [
    {
     "name": "stdout",
     "output_type": "stream",
     "text": [
      "Hi Paul! Happy Saturday!\n",
      "\n",
      "Hi Sarah! Happy Sunday!\n",
      "\n"
     ]
    }
   ],
   "source": [
    "# Write a simple function that takes 2 parameters -- a first name and a day name.\n",
    "## Set a default value for the day name of Sunday.\n",
    "## Have the function print out a greeting -- using the parameters -- that says something like \"Hi first-name! Happy day-name!\". \n",
    "## Remember to use the variables in the greeting to replace first-name and day-name.\n",
    "## Invoke this function with 2 variables.\n",
    "## Invoke this function with 1 variable only.\n",
    "\n",
    "def greeting(firstName,dayName = \"Sunday\"):\n",
    "    print(f\"Hi {firstName}! Happy {dayName}!\")\n",
    "    return \"\"\n",
    "\n",
    "print(greeting(\"Paul\",\"Saturday\"))\n",
    "print(greeting(\"Sarah\"))"
   ]
  },
  {
   "cell_type": "code",
   "execution_count": 66,
   "metadata": {},
   "outputs": [
    {
     "name": "stdout",
     "output_type": "stream",
     "text": [
      "Variable is not defined\n",
      "The try-except block is finished running\n"
     ]
    }
   ],
   "source": [
    "# Write a block of code to handle one of the most common Python exception errors. Select one of the common errors from the curriculum \n",
    "# section on Python Exception handling. Have your code example uses the try,except, else, and finally components.\n",
    "\n",
    "try: \n",
    "    print(z)\n",
    "except NameError:\n",
    "    print(\"Variable is not defined\")\n",
    "except:\n",
    "    print(\"Something went wrong\")\n",
    "else:\n",
    "    print(\"Nothing went wrong\")\n",
    "finally:\n",
    "    print(\"The try-except block is finished running\")"
   ]
  }
 ],
 "metadata": {
  "kernelspec": {
   "display_name": "Python 3",
   "language": "python",
   "name": "python3"
  },
  "language_info": {
   "codemirror_mode": {
    "name": "ipython",
    "version": 3
   },
   "file_extension": ".py",
   "mimetype": "text/x-python",
   "name": "python",
   "nbconvert_exporter": "python",
   "pygments_lexer": "ipython3",
   "version": "3.11.4"
  },
  "orig_nbformat": 4
 },
 "nbformat": 4,
 "nbformat_minor": 2
}
